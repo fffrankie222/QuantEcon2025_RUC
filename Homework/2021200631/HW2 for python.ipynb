{
 "cells": [
  {
   "cell_type": "code",
   "execution_count": 8,
   "id": "a2b50120-5489-4077-8f71-5de2e6fe015b",
   "metadata": {},
   "outputs": [],
   "source": [
    "from docxtpl import DocxTemplate\n",
    "from docx2pdf import convert\n",
    "\n",
    "template_file = \"C:/Users/Lenovo/Desktop/Application form.docx\"\n",
    "\n",
    "personal_info = {\n",
    "    \"name\": \"Zhicheng Fang\",\n",
    "    \"university\": \"Renmin University of China\",\n",
    "    \"department\": \"economics department\"\n",
    "}\n",
    "\n",
    "# Step 3: List of universities\n",
    "universities = [\n",
    "   \"Harvard University\", \"Stanford University\",\n",
    "    \"Massachusetts Institute of Technology (MIT)\",\n",
    "    \"California Institute of Technology (Caltech)\", \n",
    "    \"Columbia University\", \"University of Chicago\", \"Princeton University\",\n",
    "    \"Yale University\", \"University of Pennsylvania\", \"Johns Hopkins University\",\n",
    "    \"Northwestern University\", \"Duke University\", \n",
    "    \"University of California, Berkeley (UC Berkeley)\",\n",
    "    \"University of Michigan, Ann Arbor\", \"Cornell University\",\n",
    "    \"University of California, Los Angeles (UCLA)\", \"University of Southern California (USC)\", \n",
    "    \"New York University (NYU)\", \"Carnegie Mellon University\", \n",
    "    \"University of Virginia\"\n",
    "]"
   ]
  },
  {
   "cell_type": "code",
   "execution_count": 9,
   "id": "dd604c7a-f858-4fc7-87a0-41697f067de0",
   "metadata": {},
   "outputs": [],
   "source": [
    "departments = [\n",
    "    \"economics department\",\n",
    "    \"business school\",\n",
    "    \"statistics department\",\n",
    "    \"finance department\",\n",
    "    \"school of public policy\"\n",
    "]"
   ]
  },
  {
   "cell_type": "code",
   "execution_count": 7,
   "id": "b929651c-9ec5-4ace-ad1d-2f98854bc4c6",
   "metadata": {
    "jupyter": {
     "source_hidden": true
    }
   },
   "outputs": [],
   "source": [
    "for university in universities:\n",
    "    for department in departments:\n",
    "        try:\n",
    "            doc = DocxTemplate(template_file)\n",
    "            context = {\n",
    "                \"university\": university,\n",
    "                \"department\": department}\n",
    "            doc.render(context)\n",
    "            output_file = f\"C:/Users/Lenovo/Desktop/applications/{personal_info['name']}_{university}_{department}.docx\"\n",
    "            doc.save(output_file)\n",
    "        except Exception as e:\n",
    "            print(f\"生成 {university} - {department} 文档时出错：{e}\")"
   ]
  },
  {
   "cell_type": "code",
   "execution_count": 11,
   "id": "0eaea921-455b-4f70-a0d5-4c255ff112ae",
   "metadata": {},
   "outputs": [],
   "source": [
    "\n",
    "from docx import Document\n",
    "\n",
    "for university in universities:\n",
    "    for department in departments:\n",
    "        try:\n",
    "            doc = Document(template_file)\n",
    "            for paragraph in doc.paragraphs:\n",
    "                for run in paragraph.runs:\n",
    "                    if \"university\" in run.text:\n",
    "                        run.text = run.text.replace(\"university\", university)\n",
    "                    if \"department\" in run.text:\n",
    "                        run.text = run.text.replace(\"department\", department)\n",
    "            output_file = f\"C:/Users/Lenovo/Desktop/applications/{personal_info['name']}_{university}_{department}.docx\"\n",
    "            doc.save(output_file)\n",
    "        except Exception as e:\n",
    "            print(f\"生成 {university} - {department} 文档时出错：{e}\")"
   ]
  },
  {
   "cell_type": "code",
   "execution_count": null,
   "id": "ca3f9078-cef6-499d-9e2a-9ba8ba62414b",
   "metadata": {},
   "outputs": [],
   "source": []
  }
 ],
 "metadata": {
  "kernelspec": {
   "display_name": "Python 3 (ipykernel)",
   "language": "python",
   "name": "python3"
  },
  "language_info": {
   "codemirror_mode": {
    "name": "ipython",
    "version": 3
   },
   "file_extension": ".py",
   "mimetype": "text/x-python",
   "name": "python",
   "nbconvert_exporter": "python",
   "pygments_lexer": "ipython3",
   "version": "3.11.7"
  }
 },
 "nbformat": 4,
 "nbformat_minor": 5
}
